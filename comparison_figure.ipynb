{
 "cells": [
  {
   "cell_type": "markdown",
   "metadata": {},
   "source": [
    "### G(n,m) networks"
   ]
  },
  {
   "cell_type": "code",
   "execution_count": 6,
   "metadata": {},
   "outputs": [],
   "source": [
    "#get data and format\n",
    "import numpy as np\n",
    "import warnings\n",
    "warnings.filterwarnings(\"ignore\")\n",
    "import glob\n",
    "method_list = [\"composition-rejection\", \"event-driven\"]\n",
    "name_list = [\"m50000\",\"m150000\",\"m500000\",\"m1500000\",\"m5000000\"]\n",
    "average_degree_list_gnm = [10,30,100,300,1000]\n",
    "mean_time_list_dict_gnm = dict()\n",
    "std_time_list_dict_gnm = dict()\n",
    "for method in method_list:\n",
    "    mean_time_list = []\n",
    "    std_time_list = []\n",
    "    for name in name_list:\n",
    "        time_list = np.array([])\n",
    "        file_list = glob.glob(\"./dat/SIR_results/\"+method+\"/gnm_n1E4/\"+name+\"_*\")\n",
    "        for file in file_list:\n",
    "            x = np.loadtxt(file)[:,0]\n",
    "            if len(x.shape)==0:\n",
    "                x = np.array([x])\n",
    "            time_list = np.concatenate((time_list,x))\n",
    "        mean_time_list.append(np.mean(time_list))\n",
    "        std_time_list.append(np.std(time_list))\n",
    "    mean_time_list_dict_gnm[method] = np.array(mean_time_list)\n",
    "    std_time_list_dict_gnm[method] = np.array(std_time_list)"
   ]
  },
  {
   "cell_type": "markdown",
   "metadata": {},
   "source": [
    "### Power law 225 networks"
   ]
  },
  {
   "cell_type": "code",
   "execution_count": 7,
   "metadata": {},
   "outputs": [],
   "source": [
    "#get data and format\n",
    "import numpy as np\n",
    "import warnings\n",
    "warnings.filterwarnings(\"ignore\")\n",
    "import glob\n",
    "method_list = [\"composition-rejection\", \"event-driven\"]\n",
    "name_list = [\"n1000\",\"n3000\",\"n10000\",\"n30000\",\"n100000\",\"n300000\",\"n1000000\"]\n",
    "size_list_PL = [1000,3000,10000,30000,100000,300000,1000000]\n",
    "mean_time_list_dict_PL225 = dict()\n",
    "std_time_list_dict_PL225 = dict()\n",
    "for method in method_list:\n",
    "    mean_time_list = []\n",
    "    std_time_list = []\n",
    "    for name in name_list:\n",
    "        time_list = np.array([])\n",
    "        file_list = glob.glob(\"./dat/SIR_results/\"+method+\"/power_law_225/\"+name+\"_*\")\n",
    "        for file in file_list:\n",
    "            x = np.loadtxt(file)[:,0]\n",
    "            if len(x.shape)==0:\n",
    "                x = np.array([x])\n",
    "            time_list = np.concatenate((time_list,x))\n",
    "        mean_time_list.append(np.mean(time_list))\n",
    "        std_time_list.append(np.std(time_list))\n",
    "    mean_time_list_dict_PL225[method] = np.array(mean_time_list)\n",
    "    std_time_list_dict_PL225[method] = np.array(std_time_list)"
   ]
  },
  {
   "cell_type": "markdown",
   "metadata": {},
   "source": [
    "### Power-law 300 networks"
   ]
  },
  {
   "cell_type": "code",
   "execution_count": 8,
   "metadata": {},
   "outputs": [],
   "source": [
    "#get data and format\n",
    "import numpy as np\n",
    "import warnings\n",
    "warnings.filterwarnings(\"ignore\")\n",
    "import glob\n",
    "method_list = [\"composition-rejection\", \"event-driven\"]\n",
    "name_list = [\"n1000\",\"n3000\",\"n10000\",\"n30000\",\"n100000\",\"n300000\",\"n1000000\"]\n",
    "size_list_PL = [1000,3000,10000,30000,100000,300000,1000000]\n",
    "mean_time_list_dict_PL300 = dict()\n",
    "std_time_list_dict_PL300 = dict()\n",
    "for method in method_list:\n",
    "    mean_time_list = []\n",
    "    std_time_list = []\n",
    "    for name in name_list:\n",
    "        time_list = np.array([])\n",
    "        file_list = glob.glob(\"./dat/SIR_results/\"+method+\"/power_law_300/\"+name+\"_*\")\n",
    "        for file in file_list:\n",
    "            x = np.loadtxt(file)[:,0]\n",
    "            if len(x.shape)==0:\n",
    "                x = np.array([x])\n",
    "            time_list = np.concatenate((time_list,x))\n",
    "        mean_time_list.append(np.mean(time_list))\n",
    "        std_time_list.append(np.std(time_list))\n",
    "    mean_time_list_dict_PL300[method] = np.array(mean_time_list)\n",
    "    std_time_list_dict_PL300[method] = np.array(std_time_list)"
   ]
  },
  {
   "cell_type": "markdown",
   "metadata": {},
   "source": [
    "### Display computation time"
   ]
  },
  {
   "cell_type": "code",
   "execution_count": 17,
   "metadata": {},
   "outputs": [
    {
     "data": {
      "image/png": "[encoded data removed]",
      "text/plain": [
       "<Figure size 508.104x152.431 with 3 Axes>"
      ]
     },
     "metadata": {},
     "output_type": "display_data"
    }
   ],
   "source": [
    "%matplotlib inline\n",
    "import matplotlib.pyplot as plt\n",
    "font_size=8\n",
    "plt.style.use('seaborn-paper')\n",
    "plt.rc('text', usetex=True)\n",
    "plt.rc('font',family='serif',serif='Computer Modern')\n",
    "plt.rc('xtick', labelsize=font_size)\n",
    "plt.rc('ytick', labelsize=font_size)\n",
    "plt.rc('axes', labelsize=font_size)\n",
    "color_list = [\"#52a7c4\",\"#ff8956\", \"#fcc84e\", \"#9d65af\", \"#b2d689\"]\n",
    "width = 7.057\n",
    "height = 0.9*width/3\n",
    "\n",
    "fig, axes = plt.subplots(1,3, figsize=(width, height))\n",
    "plt.subplots_adjust(left=0.1, bottom=0.25, right=0.96, top=0.88, wspace=0.3, hspace=0.25)\n",
    "symbol_map = {'composition-rejection':'-o', 'event-driven':'-s'}\n",
    "color_map = {'composition-rejection':color_list[0], \n",
    "             'event-driven':color_list[2]}\n",
    "label_map= {'composition-rejection': 'Composition-rejection', \n",
    "             'event-driven': 'Event-driven (P.H)'}\n",
    "\n",
    "line = []\n",
    "label = []\n",
    "#gnm\n",
    "for method in method_list:\n",
    "    l = axes[0].errorbar(average_degree_list_gnm, np.array(mean_time_list_dict_gnm[method]), \n",
    "                     yerr = np.array(std_time_list_dict_gnm[method]), fmt =symbol_map[method], \n",
    "                     color = color_map[method])\n",
    "    line.append(l.lines[0])\n",
    "    label.append(label_map[method])\n",
    "    axes[0].set_xscale('log')\n",
    "    axes[0].set_yscale('log')\n",
    "    axes[0].set_xlabel(r'Mean degree')\n",
    "    \n",
    "#plot power law 225\n",
    "for method in method_list:\n",
    "    axes[1].errorbar(size_list_PL, mean_time_list_dict_PL225[method], \n",
    "                     yerr = std_time_list_dict_PL225[method], fmt =symbol_map[method], \n",
    "                     color = color_map[method])\n",
    "    axes[1].set_xscale('log')\n",
    "    axes[1].set_yscale('log')\n",
    "    axes[1].set_xlabel(r'Number of nodes')\n",
    "\n",
    "#plot power law 300\n",
    "for method in method_list:\n",
    "    axes[2].errorbar(size_list_PL, mean_time_list_dict_PL300[method], \n",
    "                     yerr = std_time_list_dict_PL300[method], fmt =symbol_map[method], \n",
    "                     color = color_map[method])\n",
    "    axes[2].set_xscale('log')\n",
    "    axes[2].set_yscale('log')\n",
    "    axes[2].set_xlabel(r'Number of nodes')\n",
    "\n",
    "axes[2].set_ylim([0.07,1])\n",
    "axes[0].set_ylabel(r'SIR update time [$\\mu$s]')\n",
    "axes[0].text(10,0.8, '$G(N,M)$\\n$N=10^4$\\n$\\lambda=1.05\\lambda_c$')\n",
    "axes[1].text(10**3,0.48, 'Power law CM\\n$\\gamma = 2.25$\\n$\\lambda=3\\lambda_c$')\n",
    "axes[2].text(10**3,0.35, 'Power law CM\\n$\\gamma = 3$\\n$\\lambda=3\\lambda_c$')\n",
    "fig.legend((line[0], line[1]), (label[0],label[1]),loc = (0.32,0.9), ncol = 3, \n",
    "           fontsize = font_size, frameon = False, columnspacing=1.1)\n",
    "plt.savefig('SIR_benchmark.png')\n",
    "plt.show()"
   ]
  }
 ],
 "metadata": {
  "kernelspec": {
   "display_name": "Python 3",
   "language": "python",
   "name": "python3"
  },
  "language_info": {
   "codemirror_mode": {
    "name": "ipython",
    "version": 3
   },
   "file_extension": ".py",
   "mimetype": "text/x-python",
   "name": "python",
   "nbconvert_exporter": "python",
   "pygments_lexer": "ipython3",
   "version": "3.6.5"
  }
 },
 "nbformat": 4,
 "nbformat_minor": 2
}
